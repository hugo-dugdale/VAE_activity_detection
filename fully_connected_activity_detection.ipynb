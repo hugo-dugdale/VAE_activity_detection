{
 "cells": [
  {
   "attachments": {},
   "cell_type": "markdown",
   "metadata": {},
   "source": [
    "# **Fully Connected Activity Detection**"
   ]
  },
  {
   "attachments": {},
   "cell_type": "markdown",
   "metadata": {},
   "source": [
    "This notebook will build a fully-connected neural network model, and a Variational Autoencoder model, to perform human activity recognition with smartphone data (https://www.kaggle.com/datasets/uciml/human-activity-recognition-with-smartphones). This emulates the scenario of having a centralised server to perform learning where clinets send all their data."
   ]
  },
  {
   "attachments": {},
   "cell_type": "markdown",
   "metadata": {},
   "source": [
    "## i. Imports"
   ]
  },
  {
   "cell_type": "code",
   "execution_count": 1,
   "metadata": {},
   "outputs": [],
   "source": [
    "import warnings\n",
    "warnings.simplefilter(action='ignore', category=FutureWarning)\n",
    "import os\n",
    "import gc\n",
    "import torch\n",
    "import numpy as np\n",
    "import seaborn as sn\n",
    "import pandas as pd\n",
    "import torch.nn as nn\n",
    "import torch.nn.functional as F\n",
    "import seaborn as sns\n",
    "import matplotlib.pyplot as plt\n",
    "from torch.utils.data import Dataset, DataLoader\n",
    "from sklearn.metrics import confusion_matrix, precision_score, recall_score, f1_score\n",
    "from sklearn.preprocessing import LabelEncoder, OneHotEncoder\n",
    "from tqdm.notebook import tqdm\n",
    "from sklearn.metrics import confusion_matrix"
   ]
  },
  {
   "attachments": {},
   "cell_type": "markdown",
   "metadata": {},
   "source": [
    "## ii. General setup"
   ]
  },
  {
   "cell_type": "code",
   "execution_count": 2,
   "metadata": {},
   "outputs": [],
   "source": [
    "# Directories\n",
    "basedir = os.getcwd()\n",
    "datadir = os.path.join(basedir, 'data')\n",
    "\n",
    "# Training hyperparameters\n",
    "N_EPOCHS = 10\n",
    "N_FEATURES = 561\n",
    "BATCH_SIZE = 128\n",
    "N_LABELS = 6\n",
    "LEARNING_RATE = 0.001\n",
    "LATENT_DIM = 100\n",
    "\n",
    "# GPU settings\n",
    "device = torch.device(\"cuda\" if torch.cuda.is_available() else \"cpu\")\n",
    "if device.type == 'cuda':\n",
    "    gc.collect()\n",
    "    torch.cuda.empty_cache()"
   ]
  },
  {
   "cell_type": "code",
   "execution_count": 11,
   "metadata": {},
   "outputs": [],
   "source": [
    "# Custom functions\n",
    "def bold(string):\n",
    "    \"\"\"\n",
    "    Make string bold.\n",
    "\n",
    "    Args:\n",
    "        string (str): String to be made bold.\n",
    "\n",
    "    Returns:\n",
    "        str: Bold string.\n",
    "\n",
    "    Raises:\n",
    "        TypeError: If the input is not a string.\n",
    "    \"\"\"\n",
    "    # Check input type\n",
    "    if not isinstance(string, str):\n",
    "        raise TypeError(\"Input must be a string!\")\n",
    "    \n",
    "    return \"\\033[1m\" + string + \"\\033[0m\"\n",
    "\n",
    "def calculate_metrics(y_true, y_pred, model, return_cm=False):\n",
    "    \"\"\"\n",
    "    Calculate performance metrics and \n",
    "    plot confusion matrix given predictions \n",
    "    and ground truth values.\n",
    "\n",
    "    Args:\n",
    "        y_true (np.array): Array of ground truth y values.\n",
    "        y_pred (np.array): Array of y value predictions.\n",
    "        model (str): Name of model that generated predictions.\n",
    "        return_cm (Bool): Boolean determining if confusion matric data is returned.\n",
    "\n",
    "    Returns:\n",
    "        float: Total model accuracy.\n",
    "        DataFrame: DataFrame of groupwise performance metrics.\n",
    "        DataFrame: Confusion matrix data (optional).\n",
    "    \"\"\"\n",
    "    # Build confusion matrix\n",
    "    cf_matrix = confusion_matrix(y_true, y_pred)\n",
    "    df_cm = pd.DataFrame(cf_matrix / np.sum(cf_matrix, axis=1)[:, None], index = [i for i in mapping],\n",
    "                         columns = [i for i in inv_mapping])\n",
    "    plt.figure(figsize = (12,7))\n",
    "    plt.title(f'Confusion Matrix between Activities for {model} Model')\n",
    "    sns.heatmap(df_cm, annot=True)\n",
    "    plt.show()\n",
    "\n",
    "    # Calculate performance metrics\n",
    "    accuracy = 100 * np.sum(y_pred == y_true) / len(y_true)\n",
    "    precision = np.round(precision_score(y_true, y_pred, average=None), 2)\n",
    "    recall = np.round(recall_score(y_true, y_pred, average=None), 2)\n",
    "    f1 = np.round(f1_score(y_true, y_pred, average=None), 2)\n",
    "\n",
    "    # Create perfromance table\n",
    "    res_df = pd.DataFrame([precision, recall, f1],\n",
    "                           columns=mapping.keys(),\n",
    "                           index=['Precision', 'Recall', 'F1 Score'])\n",
    "\n",
    "    # Print results\n",
    "    print(f'Performance Metrics for {model} Model:')\n",
    "    display(res_df)\n",
    "    print(f'{model} Model accuracy on test set: {accuracy:.2f}%')\n",
    "\n",
    "    # Return\n",
    "    if return_cm:\n",
    "        return accuracy, res_df, df_cm \n",
    "    else:\n",
    "        return accuracy, res_df"
   ]
  },
  {
   "attachments": {},
   "cell_type": "markdown",
   "metadata": {},
   "source": [
    "## **1. Load data**"
   ]
  },
  {
   "cell_type": "code",
   "execution_count": 4,
   "metadata": {},
   "outputs": [],
   "source": [
    "class ActivityDataset(Dataset):\n",
    "    \"\"\"\n",
    "    Custom PyTorch Dataset \n",
    "    of activity data.\n",
    "\n",
    "    Attributes:\n",
    "        data_array (array): NumPy array of data.\n",
    "    \"\"\"\n",
    "\n",
    "    def __init__(self, data_array):\n",
    "        self.data_array = data_array\n",
    "\n",
    "    def __len__(self):\n",
    "        return len(self.data_array)\n",
    "    \n",
    "    def __getitem__(self, idx):\n",
    "        # Convert item to tensor\n",
    "        if torch.is_tensor(idx):\n",
    "            idx = idx.tolist()\n",
    "        \n",
    "        # Obtain sample, subject and label\n",
    "        sample = self.data_array[idx]\n",
    "        subject = sample[-2]\n",
    "        sample = torch.Tensor(sample)\n",
    "        label = sample[-1]\n",
    "        sample = sample[:-2]\n",
    "        sample = torch.Tensor(sample)\n",
    "\n",
    "        # Obtain label and encode\n",
    "        label = onehot_encoder.transform([[label]])[0]\n",
    "\n",
    "        return sample, label, subject"
   ]
  },
  {
   "cell_type": "code",
   "execution_count": 5,
   "metadata": {},
   "outputs": [
    {
     "name": "stdout",
     "output_type": "stream",
     "text": [
      "Training data points: 7352\n",
      "Test data points: 2947\n",
      "Feature number: 561\n",
      "Label number: 6\n"
     ]
    }
   ],
   "source": [
    "# Load training and test data\n",
    "train_file = 'train.csv'\n",
    "test_file = 'test.csv'\n",
    "train_data = pd.read_csv(os.path.join(datadir, train_file))\n",
    "test_data = pd.read_csv(os.path.join(datadir, test_file))\n",
    "\n",
    "# Replace activities with numeric mapping\n",
    "labels = train_data['Activity'].unique().tolist()\n",
    "mapping = dict(zip(labels, range(len(labels))))\n",
    "inv_mapping = {v: k for k, v in mapping.items()}\n",
    "train_data.replace({'Activity': mapping}, inplace=True)\n",
    "test_data.replace({'Activity': mapping}, inplace=True)\n",
    "\n",
    "# Normalise data\n",
    "train_temp_columns = train_data.iloc[:, -2:]\n",
    "test_temp_columns = test_data.iloc[:, -2:]\n",
    "train_data_norm = train_data.iloc[:, :-2]\n",
    "test_data_norm = test_data.iloc[:, :-2]\n",
    "train_data_norm = (train_data_norm-train_data_norm.mean())/train_data_norm.std()\n",
    "test_data_norm = (test_data_norm-test_data_norm.mean())/test_data_norm.std()\n",
    "train_data_norm = pd.concat([train_data_norm, train_temp_columns], axis=1)\n",
    "test_data_norm = pd.concat([test_data_norm, test_temp_columns], axis=1)\n",
    "\n",
    "# Check feature number is correct\n",
    "assert train_data.shape[1]-2 == N_FEATURES,\\\n",
    "       f'Training data has incorrect number of features ({train_data.shape[1]-2})! Should be {N_FEATURES}.'\n",
    "assert test_data.shape[1]-2 == N_FEATURES,\\\n",
    "       f'Test data has incorrect number of features ({test_data.shape[1]-2})! Should be {N_FEATURES}.'\n",
    "\n",
    "# Fit onehot encoder\n",
    "onehot_encoder = OneHotEncoder(sparse=False)\n",
    "train_labels = train_data_norm['Activity'].values\n",
    "train_labels = train_labels.reshape(len(train_labels), 1)\n",
    "onehot_encoder.fit(train_labels)\n",
    "\n",
    "# Print some statistics\n",
    "print(f'Training data points: {train_data_norm.shape[0]}')\n",
    "print(f'Test data points: {test_data_norm.shape[0]}')\n",
    "print(f'Feature number: {N_FEATURES}')\n",
    "print(f'Label number: {N_LABELS}')\n",
    "\n",
    "# Create Datasets\n",
    "train_dataset = ActivityDataset(train_data_norm.to_numpy())\n",
    "test_dataset = ActivityDataset(test_data_norm.to_numpy())\n",
    "\n",
    "# Create DataLoaders\n",
    "train_dataloader = DataLoader(train_dataset, batch_size=BATCH_SIZE,\n",
    "                              shuffle=True, num_workers=0)\n",
    "test_dataloader = DataLoader(test_dataset, batch_size=BATCH_SIZE,\n",
    "                             shuffle=True, num_workers=0)"
   ]
  },
  {
   "attachments": {},
   "cell_type": "markdown",
   "metadata": {},
   "source": [
    "## **2. Fully Connected Classifier**"
   ]
  },
  {
   "cell_type": "markdown",
   "metadata": {},
   "source": [
    "### 2.1 Define model"
   ]
  },
  {
   "cell_type": "code",
   "execution_count": 6,
   "metadata": {},
   "outputs": [],
   "source": [
    "class FCNet(nn.Module):\n",
    "    \"\"\"\n",
    "    Fully connected classifier.\n",
    "\n",
    "    Attributes:\n",
    "        in_features (int): Number of input features.\n",
    "        out_labels (int): Number of output labels.\n",
    "    \"\"\"\n",
    "    def __init__(self,\n",
    "                 in_features,\n",
    "                 out_labels):\n",
    "        super(FCNet, self).__init__()\n",
    "\n",
    "        # Assign variables\n",
    "        self.in_features = in_features\n",
    "        self.out_labels = out_labels\n",
    "\n",
    "        # Define network toplogy\n",
    "        modules = []\n",
    "        modules.append(\n",
    "            nn.Sequential(\n",
    "                nn.Linear(self.in_features, self.out_labels)\n",
    "                )\n",
    "            )\n",
    "        self.linear_model = nn.Sequential(*modules)\n",
    "\n",
    "    def forward(self, x):\n",
    "        \"\"\"\n",
    "        Forward pass of the network.\n",
    "\n",
    "        Parameters:\n",
    "            x (Tensor): Tensor of input features.\n",
    "\n",
    "        Returns:\n",
    "            Tensor: Output tensor.\n",
    "        \"\"\"\n",
    "        result = self.linear_model(x)\n",
    "\n",
    "        return result"
   ]
  },
  {
   "cell_type": "code",
   "execution_count": 7,
   "metadata": {},
   "outputs": [
    {
     "name": "stdout",
     "output_type": "stream",
     "text": [
      "Total number of parameters for the classifier: 3372\n",
      "\n",
      "Classifier architecture:\n",
      "FCNet(\n",
      "  (linear_model): Sequential(\n",
      "    (0): Sequential(\n",
      "      (0): Linear(in_features=561, out_features=6, bias=True)\n",
      "    )\n",
      "  )\n",
      ")\n"
     ]
    }
   ],
   "source": [
    "# Initiliase classifier\n",
    "ActivityClassifier = FCNet(in_features=N_FEATURES, out_labels=N_LABELS).to(device)\n",
    "params = sum(p.numel() for p in ActivityClassifier.parameters() if p.requires_grad)\n",
    "print(\"Total number of parameters for the classifier: {}\\n\".format(params))\n",
    "print(\"Classifier architecture:\")\n",
    "print(ActivityClassifier)\n",
    "\n",
    "# Optimiser and loss\n",
    "optimizer = torch.optim.Adam(ActivityClassifier.parameters(), lr=LEARNING_RATE)\n",
    "criterion = nn.CrossEntropyLoss()"
   ]
  },
  {
   "cell_type": "markdown",
   "metadata": {},
   "source": [
    "### 2.2 Train Model"
   ]
  },
  {
   "cell_type": "code",
   "execution_count": 8,
   "metadata": {},
   "outputs": [
    {
     "name": "stdout",
     "output_type": "stream",
     "text": [
      "Beginning training...\n",
      "\n"
     ]
    },
    {
     "data": {
      "application/vnd.jupyter.widget-view+json": {
       "model_id": "142f65be18c44d41b5035ccd32b65ed2",
       "version_major": 2,
       "version_minor": 0
      },
      "text/plain": [
       "  0%|          | 0/58 [00:00<?, ?batch/s]"
      ]
     },
     "metadata": {},
     "output_type": "display_data"
    },
    {
     "data": {
      "application/vnd.jupyter.widget-view+json": {
       "model_id": "372f2047fb82428baa4da55ff345a23a",
       "version_major": 2,
       "version_minor": 0
      },
      "text/plain": [
       "  0%|          | 0/58 [00:00<?, ?batch/s]"
      ]
     },
     "metadata": {},
     "output_type": "display_data"
    },
    {
     "data": {
      "application/vnd.jupyter.widget-view+json": {
       "model_id": "d05e79ab37344d3c8def9a283cd02c61",
       "version_major": 2,
       "version_minor": 0
      },
      "text/plain": [
       "  0%|          | 0/58 [00:00<?, ?batch/s]"
      ]
     },
     "metadata": {},
     "output_type": "display_data"
    },
    {
     "data": {
      "application/vnd.jupyter.widget-view+json": {
       "model_id": "4ee01bbe6b80469e94aaf7abd11dfcb6",
       "version_major": 2,
       "version_minor": 0
      },
      "text/plain": [
       "  0%|          | 0/58 [00:00<?, ?batch/s]"
      ]
     },
     "metadata": {},
     "output_type": "display_data"
    },
    {
     "data": {
      "application/vnd.jupyter.widget-view+json": {
       "model_id": "886e6fbc86ba44ed866cb22fae6ff262",
       "version_major": 2,
       "version_minor": 0
      },
      "text/plain": [
       "  0%|          | 0/58 [00:00<?, ?batch/s]"
      ]
     },
     "metadata": {},
     "output_type": "display_data"
    },
    {
     "data": {
      "application/vnd.jupyter.widget-view+json": {
       "model_id": "2356f74bef604203a35a1646f7b0a977",
       "version_major": 2,
       "version_minor": 0
      },
      "text/plain": [
       "  0%|          | 0/58 [00:00<?, ?batch/s]"
      ]
     },
     "metadata": {},
     "output_type": "display_data"
    },
    {
     "data": {
      "application/vnd.jupyter.widget-view+json": {
       "model_id": "75df196d92674bbd9a43886d4e23811a",
       "version_major": 2,
       "version_minor": 0
      },
      "text/plain": [
       "  0%|          | 0/58 [00:00<?, ?batch/s]"
      ]
     },
     "metadata": {},
     "output_type": "display_data"
    },
    {
     "data": {
      "application/vnd.jupyter.widget-view+json": {
       "model_id": "5522d0bcd42f4874a77d545c2e002844",
       "version_major": 2,
       "version_minor": 0
      },
      "text/plain": [
       "  0%|          | 0/58 [00:00<?, ?batch/s]"
      ]
     },
     "metadata": {},
     "output_type": "display_data"
    },
    {
     "data": {
      "application/vnd.jupyter.widget-view+json": {
       "model_id": "08308a9acb224dfeb17a9f36270e6fe5",
       "version_major": 2,
       "version_minor": 0
      },
      "text/plain": [
       "  0%|          | 0/58 [00:00<?, ?batch/s]"
      ]
     },
     "metadata": {},
     "output_type": "display_data"
    },
    {
     "data": {
      "application/vnd.jupyter.widget-view+json": {
       "model_id": "45a71a1c57e84c72831eefe7f9b8185b",
       "version_major": 2,
       "version_minor": 0
      },
      "text/plain": [
       "  0%|          | 0/58 [00:00<?, ?batch/s]"
      ]
     },
     "metadata": {},
     "output_type": "display_data"
    }
   ],
   "source": [
    "# Initialise loss dictionary\n",
    "total_loss = []\n",
    "\n",
    "# Begin training\n",
    "print('Beginning training...\\n')\n",
    "ActivityClassifier.train()\n",
    "\n",
    "# Loop over epochs\n",
    "for epoch in range(N_EPOCHS):\n",
    "    # Running loss containers\n",
    "    running_loss = 0.0\n",
    "\n",
    "    # Loop over batches\n",
    "    with tqdm(train_dataloader, unit=\"batch\") as tepoch: \n",
    "        for batch_idx, (data, label, subject) in enumerate(tepoch):\n",
    "\n",
    "          # Batch tensor and add channel dimension\n",
    "          batch_tensor = data.to(device)\n",
    "          label = label.to(device)\n",
    "          batch_tensor = batch_tensor[:, None, :]\n",
    "\n",
    "          # Compute reconstructions\n",
    "          results = ActivityClassifier(batch_tensor)\n",
    "          results = results.squeeze()\n",
    "          \n",
    "          # Loss\n",
    "          loss = criterion(results, label)\n",
    "\n",
    "          # Backpropagation based on the loss\n",
    "          optimizer.zero_grad()\n",
    "          loss.backward()\n",
    "          optimizer.step()\n",
    "\n",
    "          # Update loss\n",
    "          running_loss += loss.item()\n",
    "\n",
    "          # Log\n",
    "          if batch_idx % 20 == 0:\n",
    "            tepoch.set_description(f\"Epoch {epoch+1}\")\n",
    "            tepoch.set_postfix(loss=loss.item())\n",
    "\n",
    "        # Average epoch loss\n",
    "        total_loss.append(running_loss/batch_idx+1)"
   ]
  },
  {
   "attachments": {},
   "cell_type": "markdown",
   "metadata": {},
   "source": [
    "### 2.3. Evaluate model"
   ]
  },
  {
   "cell_type": "code",
   "execution_count": 12,
   "metadata": {},
   "outputs": [
    {
     "data": {
      "image/png": "[encoded data removed]",
      "text/plain": [
       "<Figure size 1200x700 with 2 Axes>"
      ]
     },
     "metadata": {},
     "output_type": "display_data"
    },
    {
     "name": "stdout",
     "output_type": "stream",
     "text": [
      "Performance Metrics for Fully Connected Neural Network Model:\n"
     ]
    },
    {
     "data": {
      "text/html": [
       "<div>\n",
       "<style scoped>\n",
       "    .dataframe tbody tr th:only-of-type {\n",
       "        vertical-align: middle;\n",
       "    }\n",
       "\n",
       "    .dataframe tbody tr th {\n",
       "        vertical-align: top;\n",
       "    }\n",
       "\n",
       "    .dataframe thead th {\n",
       "        text-align: right;\n",
       "    }\n",
       "</style>\n",
       "<table border=\"1\" class=\"dataframe\">\n",
       "  <thead>\n",
       "    <tr style=\"text-align: right;\">\n",
       "      <th></th>\n",
       "      <th>STANDING</th>\n",
       "      <th>SITTING</th>\n",
       "      <th>LAYING</th>\n",
       "      <th>WALKING</th>\n",
       "      <th>WALKING_DOWNSTAIRS</th>\n",
       "      <th>WALKING_UPSTAIRS</th>\n",
       "    </tr>\n",
       "  </thead>\n",
       "  <tbody>\n",
       "    <tr>\n",
       "      <th>Precision</th>\n",
       "      <td>0.89</td>\n",
       "      <td>0.93</td>\n",
       "      <td>1.00</td>\n",
       "      <td>0.99</td>\n",
       "      <td>0.95</td>\n",
       "      <td>0.94</td>\n",
       "    </tr>\n",
       "    <tr>\n",
       "      <th>Recall</th>\n",
       "      <td>0.94</td>\n",
       "      <td>0.88</td>\n",
       "      <td>0.98</td>\n",
       "      <td>0.96</td>\n",
       "      <td>0.95</td>\n",
       "      <td>0.98</td>\n",
       "    </tr>\n",
       "    <tr>\n",
       "      <th>F1 Score</th>\n",
       "      <td>0.91</td>\n",
       "      <td>0.90</td>\n",
       "      <td>0.99</td>\n",
       "      <td>0.97</td>\n",
       "      <td>0.95</td>\n",
       "      <td>0.96</td>\n",
       "    </tr>\n",
       "  </tbody>\n",
       "</table>\n",
       "</div>"
      ],
      "text/plain": [
       "           STANDING  SITTING  LAYING  WALKING  WALKING_DOWNSTAIRS  \\\n",
       "Precision      0.89     0.93    1.00     0.99                0.95   \n",
       "Recall         0.94     0.88    0.98     0.96                0.95   \n",
       "F1 Score       0.91     0.90    0.99     0.97                0.95   \n",
       "\n",
       "           WALKING_UPSTAIRS  \n",
       "Precision              0.94  \n",
       "Recall                 0.98  \n",
       "F1 Score               0.96  "
      ]
     },
     "metadata": {},
     "output_type": "display_data"
    },
    {
     "name": "stdout",
     "output_type": "stream",
     "text": [
      "Fully Connected Neural Network Model accuracy on test set: 94.81%\n"
     ]
    }
   ],
   "source": [
    "# Containers for predictions\n",
    "y_pred = []\n",
    "y_true = []\n",
    "\n",
    "# Put model in evaluation mode\n",
    "ActivityClassifier.eval()\n",
    "torch.no_grad()\n",
    "\n",
    "# Loop over test batches\n",
    "for data, labels, subject in test_dataloader:\n",
    "    # Batch tensor and add channel dimension\n",
    "    batch_tensor = data.to(device)\n",
    "    label = label.to(device)\n",
    "    batch_tensor = batch_tensor[:, None, :]\n",
    "\n",
    "    # Obtain model predictions\n",
    "    results = ActivityClassifier(batch_tensor)\n",
    "    results = results.squeeze()\n",
    "\n",
    "    # Save precitions\n",
    "    output = (torch.max(torch.exp(results), 1)[1]).data.cpu().numpy()\n",
    "    y_pred.extend(output)\n",
    "\n",
    "    # Unencode labels and save\n",
    "    labels = onehot_encoder.inverse_transform(labels.cpu().numpy())\n",
    "    labels = np.array([x[0] for x in labels])\n",
    "    y_true.extend(labels)\n",
    "\n",
    "# Calculate performance metrics\n",
    "y_pred = np.array(y_pred)\n",
    "y_true = np.array(y_true)\n",
    "model_name = 'Fully Connected Neural Network'\n",
    "accuracy, performance_df = calculate_metrics(y_true, y_pred, model=model_name)"
   ]
  }
 ],
 "metadata": {
  "kernelspec": {
   "display_name": "activity_VAE",
   "language": "python",
   "name": "python3"
  },
  "language_info": {
   "codemirror_mode": {
    "name": "ipython",
    "version": 3
   },
   "file_extension": ".py",
   "mimetype": "text/x-python",
   "name": "python",
   "nbconvert_exporter": "python",
   "pygments_lexer": "ipython3",
   "version": "3.8.15"
  },
  "orig_nbformat": 4
 },
 "nbformat": 4,
 "nbformat_minor": 2
}
