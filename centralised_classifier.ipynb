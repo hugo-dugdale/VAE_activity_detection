{
 "cells": [
  {
   "attachments": {},
   "cell_type": "markdown",
   "metadata": {},
   "source": [
    "# **Centralised Learning Activty Detection**"
   ]
  },
  {
   "attachments": {},
   "cell_type": "markdown",
   "metadata": {},
   "source": [
    "This notebook will build a fully-connected neural network model to perform human activity recognition with smartphone data (https://www.kaggle.com/datasets/uciml/human-activity-recognition-with-smartphones). This emulates the scenarion of having a centralised server to perform learning where clinets send all their data."
   ]
  },
  {
   "attachments": {},
   "cell_type": "markdown",
   "metadata": {},
   "source": [
    "## i. Imports"
   ]
  },
  {
   "cell_type": "code",
   "execution_count": 119,
   "metadata": {},
   "outputs": [],
   "source": [
    "import warnings\n",
    "warnings.simplefilter(action='ignore', category=FutureWarning)\n",
    "import os\n",
    "import gc\n",
    "import torch\n",
    "import numpy as np\n",
    "import seaborn as sn\n",
    "import pandas as pd\n",
    "import torch.nn as nn\n",
    "import torch.nn.functional as F\n",
    "import seaborn as sns\n",
    "import matplotlib.pyplot as plt\n",
    "from torch.utils.data import Dataset, DataLoader\n",
    "from sklearn.preprocessing import LabelEncoder, OneHotEncoder\n",
    "from tqdm.notebook import tqdm\n",
    "from sklearn.metrics import confusion_matrix"
   ]
  },
  {
   "attachments": {},
   "cell_type": "markdown",
   "metadata": {},
   "source": [
    "## ii. General setup"
   ]
  },
  {
   "cell_type": "code",
   "execution_count": 8,
   "metadata": {},
   "outputs": [],
   "source": [
    "# Directories\n",
    "basedir = os.getcwd()\n",
    "datadir = os.path.join(basedir, 'data')\n",
    "\n",
    "# Training hyperparameters\n",
    "N_EPOCHS = 50\n",
    "N_FEATURES = 561\n",
    "BATCH_SIZE = 128\n",
    "N_LABELS = 6\n",
    "\n",
    "# GPU settings\n",
    "device = torch.device(\"cuda\" if torch.cuda.is_available() else \"cpu\")\n",
    "if device.type == 'cuda':\n",
    "    gc.collect()\n",
    "    torch.cuda.empty_cache()\n",
    "\n",
    "def bold(string):\n",
    "    \"\"\"\n",
    "    Make string bold.\n",
    "\n",
    "    Parameters:\n",
    "        string (ste): String to be made bold.\n",
    "\n",
    "    Returns:\n",
    "        str: Bold string.\n",
    "    \"\"\"\n",
    "    \n",
    "    return '\\033[1m' + string + '\\033[0m'"
   ]
  },
  {
   "attachments": {},
   "cell_type": "markdown",
   "metadata": {},
   "source": [
    "## **1. Load data**"
   ]
  },
  {
   "cell_type": "code",
   "execution_count": 9,
   "metadata": {},
   "outputs": [],
   "source": [
    "class ActivityDataset(Dataset):\n",
    "    \"\"\"\n",
    "    Custom PyTorch Dataset \n",
    "    of activity data.\n",
    "\n",
    "    Attributes:\n",
    "        data_array (array): NumPy array of data.\n",
    "    \"\"\"\n",
    "\n",
    "    def __init__(self, data_array):\n",
    "        self.data_array = data_array\n",
    "\n",
    "    def __len__(self):\n",
    "        return len(self.data_array)\n",
    "    \n",
    "    def __getitem__(self, idx):\n",
    "        # Convert item to tensor\n",
    "        if torch.is_tensor(idx):\n",
    "            idx = idx.tolist()\n",
    "        \n",
    "        # Obtain sample and subject\n",
    "        sample = self.data_array[idx]\n",
    "        sample = sample[:-2]\n",
    "        sample = torch.Tensor(sample)\n",
    "        subject = sample[-2]\n",
    "\n",
    "        # Obtain label and encode\n",
    "        label = onehot_encoder.transform([[sample[-1]]])[0]\n",
    "\n",
    "        return sample, label, subject"
   ]
  },
  {
   "cell_type": "code",
   "execution_count": 10,
   "metadata": {},
   "outputs": [
    {
     "name": "stdout",
     "output_type": "stream",
     "text": [
      "Training data points: 7352\n",
      "Test data points: 2947\n",
      "Feature number: 561\n",
      "Label number: 6\n"
     ]
    }
   ],
   "source": [
    "# Load training and test data\n",
    "train_file = 'train.csv'\n",
    "test_file = 'test.csv'\n",
    "train_data = pd.read_csv(os.path.join(datadir, train_file))\n",
    "test_data = pd.read_csv(os.path.join(datadir, test_file))\n",
    "\n",
    "# Replace activities with numeric mapping\n",
    "labels = train_data['Activity'].unique().tolist()\n",
    "mapping = dict(zip(labels, range(len(labels))))\n",
    "inv_mapping = {v: k for k, v in mapping.items()}\n",
    "train_data.replace({'Activity': mapping}, inplace=True)\n",
    "test_data.replace({'Activity': mapping}, inplace=True)\n",
    "\n",
    "# Normalise data\n",
    "train_temp_columns = train_data.iloc[:, -2:]\n",
    "test_temp_columns = test_data.iloc[:, -2:]\n",
    "train_data_norm = train_data.iloc[:, :-2]\n",
    "test_data_norm = test_data.iloc[:, :-2]\n",
    "train_data_norm = (train_data_norm-train_data_norm.mean())/train_data_norm.std()\n",
    "test_data_norm = (test_data_norm-test_data_norm.mean())/test_data_norm.std()\n",
    "train_data_norm = pd.concat([train_data_norm, train_temp_columns], axis=1)\n",
    "test_data_norm = pd.concat([test_data_norm, test_temp_columns], axis=1)\n",
    "\n",
    "# Check feature number is correct\n",
    "assert train_data.shape[1]-2 == N_FEATURES,\\\n",
    "       f'Training data has incorrect number of features ({train_data.shape[1]-2})! Should be {N_FEATURES}.'\n",
    "assert test_data.shape[1]-2 == N_FEATURES,\\\n",
    "       f'Test data has incorrect number of features ({test_data.shape[1]-2})! Should be {N_FEATURES}.'\n",
    "\n",
    "# Fit onehot encoder\n",
    "onehot_encoder = OneHotEncoder(sparse=False)\n",
    "train_labels = train_data_norm['Activity'].values\n",
    "train_labels = train_labels.reshape(len(train_labels), 1)\n",
    "onehot_encoder.fit(train_labels)\n",
    "\n",
    "# Print some statistics\n",
    "print(f'Training data points: {train_data_norm.shape[0]}')\n",
    "print(f'Test data points: {test_data_norm.shape[0]}')\n",
    "print(f'Feature number: {N_FEATURES}')\n",
    "print(f'Label number: {N_LABELS}')\n",
    "\n",
    "# Create Datasets\n",
    "train_dataset = ActivityDataset(train_data_norm.to_numpy())\n",
    "test_dataset = ActivityDataset(test_data_norm.to_numpy())\n",
    "\n",
    "# Create DataLoaders\n",
    "train_dataloader = DataLoader(train_dataset, batch_size=BATCH_SIZE,\n",
    "                              shuffle=True, num_workers=0)\n",
    "test_dataloader = DataLoader(test_dataset, batch_size=BATCH_SIZE,\n",
    "                             shuffle=True, num_workers=0)"
   ]
  },
  {
   "attachments": {},
   "cell_type": "markdown",
   "metadata": {},
   "source": [
    "## **2. Define Classifier**"
   ]
  },
  {
   "cell_type": "code",
   "execution_count": 11,
   "metadata": {},
   "outputs": [],
   "source": [
    "class FCNet(nn.Module):\n",
    "    \"\"\"\n",
    "    Fully connected classifier.\n",
    "\n",
    "    Attributes:\n",
    "        in_features (int): Number of input features.\n",
    "        out_labels (int): Number of output labels.\n",
    "    \"\"\"\n",
    "    def __init__(self,\n",
    "                 in_features,\n",
    "                 out_labels):\n",
    "        super(FCNet, self).__init__()\n",
    "\n",
    "        # Assign variables\n",
    "        self.in_features = in_features\n",
    "        self.out_labels = out_labels\n",
    "\n",
    "        # Define network toplogy\n",
    "        modules = []\n",
    "        modules.append(\n",
    "            nn.Sequential(\n",
    "                nn.Linear(self.in_features, self.out_labels)\n",
    "                )\n",
    "            )\n",
    "        self.linear_model = nn.Sequential(*modules)\n",
    "\n",
    "    def forward(self, x):\n",
    "        \"\"\"\n",
    "        Forward pass of the network.\n",
    "\n",
    "        Parameters:\n",
    "            x (Tensor): Tensor of input features.\n",
    "\n",
    "        Returns:\n",
    "            Tensor: Output tensor.\n",
    "        \"\"\"\n",
    "        result = self.linear_model(x)\n",
    "\n",
    "        return result"
   ]
  },
  {
   "attachments": {},
   "cell_type": "markdown",
   "metadata": {},
   "source": [
    "## **2. Train Model**"
   ]
  },
  {
   "cell_type": "code",
   "execution_count": 12,
   "metadata": {},
   "outputs": [
    {
     "name": "stdout",
     "output_type": "stream",
     "text": [
      "Total number of parameters for the classifier: 3372\n",
      "\n",
      "Classifier architecture:\n",
      "FCNet(\n",
      "  (linear_model): Sequential(\n",
      "    (0): Sequential(\n",
      "      (0): Linear(in_features=561, out_features=6, bias=True)\n",
      "    )\n",
      "  )\n",
      ")\n"
     ]
    }
   ],
   "source": [
    "# Initiliase classifier\n",
    "ActivityClassifier = FCNet(in_features=N_FEATURES, out_labels=N_LABELS).to(device)\n",
    "params = sum(p.numel() for p in ActivityClassifier.parameters() if p.requires_grad)\n",
    "print(\"Total number of parameters for the classifier: {}\\n\".format(params))\n",
    "print(\"Classifier architecture:\")\n",
    "print(ActivityClassifier)\n",
    "\n",
    "# Optimiser and loss\n",
    "optimizer = torch.optim.Adam(ActivityClassifier.parameters(), lr=1e-3)\n",
    "criterion = nn.CrossEntropyLoss()"
   ]
  },
  {
   "cell_type": "code",
   "execution_count": 13,
   "metadata": {},
   "outputs": [
    {
     "name": "stdout",
     "output_type": "stream",
     "text": [
      "Beginning training...\n",
      "\n"
     ]
    },
    {
     "data": {
      "application/vnd.jupyter.widget-view+json": {
       "model_id": "d7d630fbd7ed4f23a7ceb90100b0de4a",
       "version_major": 2,
       "version_minor": 0
      },
      "text/plain": [
       "  0%|          | 0/58 [00:00<?, ?batch/s]"
      ]
     },
     "metadata": {},
     "output_type": "display_data"
    },
    {
     "data": {
      "application/vnd.jupyter.widget-view+json": {
       "model_id": "1a6bb99022d349deb4d8e9f3362864b3",
       "version_major": 2,
       "version_minor": 0
      },
      "text/plain": [
       "  0%|          | 0/58 [00:00<?, ?batch/s]"
      ]
     },
     "metadata": {},
     "output_type": "display_data"
    },
    {
     "data": {
      "application/vnd.jupyter.widget-view+json": {
       "model_id": "7f359d2578294d5196bbfc1fd7b6940a",
       "version_major": 2,
       "version_minor": 0
      },
      "text/plain": [
       "  0%|          | 0/58 [00:00<?, ?batch/s]"
      ]
     },
     "metadata": {},
     "output_type": "display_data"
    },
    {
     "data": {
      "application/vnd.jupyter.widget-view+json": {
       "model_id": "03db32c0f813441999b3793653d90e4b",
       "version_major": 2,
       "version_minor": 0
      },
      "text/plain": [
       "  0%|          | 0/58 [00:00<?, ?batch/s]"
      ]
     },
     "metadata": {},
     "output_type": "display_data"
    },
    {
     "data": {
      "application/vnd.jupyter.widget-view+json": {
       "model_id": "f382de78e70c4ad1a049017ffd2e96a4",
       "version_major": 2,
       "version_minor": 0
      },
      "text/plain": [
       "  0%|          | 0/58 [00:00<?, ?batch/s]"
      ]
     },
     "metadata": {},
     "output_type": "display_data"
    },
    {
     "data": {
      "application/vnd.jupyter.widget-view+json": {
       "model_id": "23a46af184804298b5fe67714e2d9ef3",
       "version_major": 2,
       "version_minor": 0
      },
      "text/plain": [
       "  0%|          | 0/58 [00:00<?, ?batch/s]"
      ]
     },
     "metadata": {},
     "output_type": "display_data"
    },
    {
     "data": {
      "application/vnd.jupyter.widget-view+json": {
       "model_id": "981d44379c464d009f1d1fad230742ad",
       "version_major": 2,
       "version_minor": 0
      },
      "text/plain": [
       "  0%|          | 0/58 [00:00<?, ?batch/s]"
      ]
     },
     "metadata": {},
     "output_type": "display_data"
    },
    {
     "data": {
      "application/vnd.jupyter.widget-view+json": {
       "model_id": "1eead3463fec4c7dad18447825f02d32",
       "version_major": 2,
       "version_minor": 0
      },
      "text/plain": [
       "  0%|          | 0/58 [00:00<?, ?batch/s]"
      ]
     },
     "metadata": {},
     "output_type": "display_data"
    },
    {
     "data": {
      "application/vnd.jupyter.widget-view+json": {
       "model_id": "016e069ad3944c77adf7948370d30546",
       "version_major": 2,
       "version_minor": 0
      },
      "text/plain": [
       "  0%|          | 0/58 [00:00<?, ?batch/s]"
      ]
     },
     "metadata": {},
     "output_type": "display_data"
    },
    {
     "data": {
      "application/vnd.jupyter.widget-view+json": {
       "model_id": "471ed9ef88274578843678a46b363e8e",
       "version_major": 2,
       "version_minor": 0
      },
      "text/plain": [
       "  0%|          | 0/58 [00:00<?, ?batch/s]"
      ]
     },
     "metadata": {},
     "output_type": "display_data"
    },
    {
     "data": {
      "application/vnd.jupyter.widget-view+json": {
       "model_id": "fec90a7d907e41e384bd36a7c3234da3",
       "version_major": 2,
       "version_minor": 0
      },
      "text/plain": [
       "  0%|          | 0/58 [00:00<?, ?batch/s]"
      ]
     },
     "metadata": {},
     "output_type": "display_data"
    },
    {
     "data": {
      "application/vnd.jupyter.widget-view+json": {
       "model_id": "fccf62a0d8824bf3993211aeeffb0d8a",
       "version_major": 2,
       "version_minor": 0
      },
      "text/plain": [
       "  0%|          | 0/58 [00:00<?, ?batch/s]"
      ]
     },
     "metadata": {},
     "output_type": "display_data"
    },
    {
     "data": {
      "application/vnd.jupyter.widget-view+json": {
       "model_id": "ab7475496a9949e99d9709e223c190a6",
       "version_major": 2,
       "version_minor": 0
      },
      "text/plain": [
       "  0%|          | 0/58 [00:00<?, ?batch/s]"
      ]
     },
     "metadata": {},
     "output_type": "display_data"
    },
    {
     "data": {
      "application/vnd.jupyter.widget-view+json": {
       "model_id": "e12d4b4278d94cd4b35b06722709cacc",
       "version_major": 2,
       "version_minor": 0
      },
      "text/plain": [
       "  0%|          | 0/58 [00:00<?, ?batch/s]"
      ]
     },
     "metadata": {},
     "output_type": "display_data"
    },
    {
     "data": {
      "application/vnd.jupyter.widget-view+json": {
       "model_id": "f6baaa1d80bb4fa58872a7eac9e6047e",
       "version_major": 2,
       "version_minor": 0
      },
      "text/plain": [
       "  0%|          | 0/58 [00:00<?, ?batch/s]"
      ]
     },
     "metadata": {},
     "output_type": "display_data"
    },
    {
     "data": {
      "application/vnd.jupyter.widget-view+json": {
       "model_id": "7c38cfb197f047b389f5468e3e45b347",
       "version_major": 2,
       "version_minor": 0
      },
      "text/plain": [
       "  0%|          | 0/58 [00:00<?, ?batch/s]"
      ]
     },
     "metadata": {},
     "output_type": "display_data"
    },
    {
     "data": {
      "application/vnd.jupyter.widget-view+json": {
       "model_id": "2866e90382844ac9b1dae92278174747",
       "version_major": 2,
       "version_minor": 0
      },
      "text/plain": [
       "  0%|          | 0/58 [00:00<?, ?batch/s]"
      ]
     },
     "metadata": {},
     "output_type": "display_data"
    },
    {
     "data": {
      "application/vnd.jupyter.widget-view+json": {
       "model_id": "70bc116ffdf5452eb5e3af3f83ab2d9d",
       "version_major": 2,
       "version_minor": 0
      },
      "text/plain": [
       "  0%|          | 0/58 [00:00<?, ?batch/s]"
      ]
     },
     "metadata": {},
     "output_type": "display_data"
    },
    {
     "data": {
      "application/vnd.jupyter.widget-view+json": {
       "model_id": "64a88ec42b96443fa4d7316afd22902d",
       "version_major": 2,
       "version_minor": 0
      },
      "text/plain": [
       "  0%|          | 0/58 [00:00<?, ?batch/s]"
      ]
     },
     "metadata": {},
     "output_type": "display_data"
    },
    {
     "data": {
      "application/vnd.jupyter.widget-view+json": {
       "model_id": "032c255a75784ee68a2de1e85c2fa7f9",
       "version_major": 2,
       "version_minor": 0
      },
      "text/plain": [
       "  0%|          | 0/58 [00:00<?, ?batch/s]"
      ]
     },
     "metadata": {},
     "output_type": "display_data"
    },
    {
     "data": {
      "application/vnd.jupyter.widget-view+json": {
       "model_id": "7097c50344d34a2f813c71fef85ed10f",
       "version_major": 2,
       "version_minor": 0
      },
      "text/plain": [
       "  0%|          | 0/58 [00:00<?, ?batch/s]"
      ]
     },
     "metadata": {},
     "output_type": "display_data"
    },
    {
     "data": {
      "application/vnd.jupyter.widget-view+json": {
       "model_id": "1cf0a5f4751c4ce68602b15108f2cd48",
       "version_major": 2,
       "version_minor": 0
      },
      "text/plain": [
       "  0%|          | 0/58 [00:00<?, ?batch/s]"
      ]
     },
     "metadata": {},
     "output_type": "display_data"
    },
    {
     "data": {
      "application/vnd.jupyter.widget-view+json": {
       "model_id": "dcb54ff3f4d0444ba8f26542a3bf62e3",
       "version_major": 2,
       "version_minor": 0
      },
      "text/plain": [
       "  0%|          | 0/58 [00:00<?, ?batch/s]"
      ]
     },
     "metadata": {},
     "output_type": "display_data"
    },
    {
     "data": {
      "application/vnd.jupyter.widget-view+json": {
       "model_id": "4a0e3dc4670f48a981d0d690e3d3dbdb",
       "version_major": 2,
       "version_minor": 0
      },
      "text/plain": [
       "  0%|          | 0/58 [00:00<?, ?batch/s]"
      ]
     },
     "metadata": {},
     "output_type": "display_data"
    },
    {
     "data": {
      "application/vnd.jupyter.widget-view+json": {
       "model_id": "83410673a1904739994a65704a853b7f",
       "version_major": 2,
       "version_minor": 0
      },
      "text/plain": [
       "  0%|          | 0/58 [00:00<?, ?batch/s]"
      ]
     },
     "metadata": {},
     "output_type": "display_data"
    },
    {
     "data": {
      "application/vnd.jupyter.widget-view+json": {
       "model_id": "1f7233168c2940169f661fd8d1f52b1f",
       "version_major": 2,
       "version_minor": 0
      },
      "text/plain": [
       "  0%|          | 0/58 [00:00<?, ?batch/s]"
      ]
     },
     "metadata": {},
     "output_type": "display_data"
    },
    {
     "data": {
      "application/vnd.jupyter.widget-view+json": {
       "model_id": "a0da89fbe4d4491fa01b4ad4fa02bd14",
       "version_major": 2,
       "version_minor": 0
      },
      "text/plain": [
       "  0%|          | 0/58 [00:00<?, ?batch/s]"
      ]
     },
     "metadata": {},
     "output_type": "display_data"
    },
    {
     "data": {
      "application/vnd.jupyter.widget-view+json": {
       "model_id": "41b121e009dd4b56ba069886a9768551",
       "version_major": 2,
       "version_minor": 0
      },
      "text/plain": [
       "  0%|          | 0/58 [00:00<?, ?batch/s]"
      ]
     },
     "metadata": {},
     "output_type": "display_data"
    },
    {
     "data": {
      "application/vnd.jupyter.widget-view+json": {
       "model_id": "69174cc57d994b41bb5332d1b4a4e3f6",
       "version_major": 2,
       "version_minor": 0
      },
      "text/plain": [
       "  0%|          | 0/58 [00:00<?, ?batch/s]"
      ]
     },
     "metadata": {},
     "output_type": "display_data"
    },
    {
     "data": {
      "application/vnd.jupyter.widget-view+json": {
       "model_id": "d891f7e472074a0085db0ff16a7b1af2",
       "version_major": 2,
       "version_minor": 0
      },
      "text/plain": [
       "  0%|          | 0/58 [00:00<?, ?batch/s]"
      ]
     },
     "metadata": {},
     "output_type": "display_data"
    },
    {
     "data": {
      "application/vnd.jupyter.widget-view+json": {
       "model_id": "a1148ed4c0374c1ca24fc5b5ffa25824",
       "version_major": 2,
       "version_minor": 0
      },
      "text/plain": [
       "  0%|          | 0/58 [00:00<?, ?batch/s]"
      ]
     },
     "metadata": {},
     "output_type": "display_data"
    },
    {
     "data": {
      "application/vnd.jupyter.widget-view+json": {
       "model_id": "a2f0cac9a8c8463cbe2371a62e20c029",
       "version_major": 2,
       "version_minor": 0
      },
      "text/plain": [
       "  0%|          | 0/58 [00:00<?, ?batch/s]"
      ]
     },
     "metadata": {},
     "output_type": "display_data"
    },
    {
     "data": {
      "application/vnd.jupyter.widget-view+json": {
       "model_id": "56aa1f08b0bb4e4082fc35012643aee4",
       "version_major": 2,
       "version_minor": 0
      },
      "text/plain": [
       "  0%|          | 0/58 [00:00<?, ?batch/s]"
      ]
     },
     "metadata": {},
     "output_type": "display_data"
    },
    {
     "data": {
      "application/vnd.jupyter.widget-view+json": {
       "model_id": "2818c655132d4bafa5a33bade6bafdfd",
       "version_major": 2,
       "version_minor": 0
      },
      "text/plain": [
       "  0%|          | 0/58 [00:00<?, ?batch/s]"
      ]
     },
     "metadata": {},
     "output_type": "display_data"
    },
    {
     "data": {
      "application/vnd.jupyter.widget-view+json": {
       "model_id": "7aec821bcb644a8b99c78f885bdaa055",
       "version_major": 2,
       "version_minor": 0
      },
      "text/plain": [
       "  0%|          | 0/58 [00:00<?, ?batch/s]"
      ]
     },
     "metadata": {},
     "output_type": "display_data"
    },
    {
     "data": {
      "application/vnd.jupyter.widget-view+json": {
       "model_id": "90492c1b0a5944c69f50f714e90da6cd",
       "version_major": 2,
       "version_minor": 0
      },
      "text/plain": [
       "  0%|          | 0/58 [00:00<?, ?batch/s]"
      ]
     },
     "metadata": {},
     "output_type": "display_data"
    },
    {
     "data": {
      "application/vnd.jupyter.widget-view+json": {
       "model_id": "8220f4fdcbc5462c82d09a75110aaff6",
       "version_major": 2,
       "version_minor": 0
      },
      "text/plain": [
       "  0%|          | 0/58 [00:00<?, ?batch/s]"
      ]
     },
     "metadata": {},
     "output_type": "display_data"
    },
    {
     "data": {
      "application/vnd.jupyter.widget-view+json": {
       "model_id": "cd0d13ba5bdd48b9af2730c7c2d96a17",
       "version_major": 2,
       "version_minor": 0
      },
      "text/plain": [
       "  0%|          | 0/58 [00:00<?, ?batch/s]"
      ]
     },
     "metadata": {},
     "output_type": "display_data"
    },
    {
     "data": {
      "application/vnd.jupyter.widget-view+json": {
       "model_id": "4186161e1ad54f2cb217751719fa6207",
       "version_major": 2,
       "version_minor": 0
      },
      "text/plain": [
       "  0%|          | 0/58 [00:00<?, ?batch/s]"
      ]
     },
     "metadata": {},
     "output_type": "display_data"
    },
    {
     "data": {
      "application/vnd.jupyter.widget-view+json": {
       "model_id": "ab1be0290e6248f092435e49ad0fefb6",
       "version_major": 2,
       "version_minor": 0
      },
      "text/plain": [
       "  0%|          | 0/58 [00:00<?, ?batch/s]"
      ]
     },
     "metadata": {},
     "output_type": "display_data"
    },
    {
     "data": {
      "application/vnd.jupyter.widget-view+json": {
       "model_id": "adba9ae7f9b247c39c522a47bc8a7a11",
       "version_major": 2,
       "version_minor": 0
      },
      "text/plain": [
       "  0%|          | 0/58 [00:00<?, ?batch/s]"
      ]
     },
     "metadata": {},
     "output_type": "display_data"
    },
    {
     "data": {
      "application/vnd.jupyter.widget-view+json": {
       "model_id": "240daa615e5d4208bab14069c7644ddd",
       "version_major": 2,
       "version_minor": 0
      },
      "text/plain": [
       "  0%|          | 0/58 [00:00<?, ?batch/s]"
      ]
     },
     "metadata": {},
     "output_type": "display_data"
    },
    {
     "data": {
      "application/vnd.jupyter.widget-view+json": {
       "model_id": "92b41a3a78b741019f15feabce1fdaf5",
       "version_major": 2,
       "version_minor": 0
      },
      "text/plain": [
       "  0%|          | 0/58 [00:00<?, ?batch/s]"
      ]
     },
     "metadata": {},
     "output_type": "display_data"
    },
    {
     "data": {
      "application/vnd.jupyter.widget-view+json": {
       "model_id": "88c95c924500430585ecaa2a071ff41e",
       "version_major": 2,
       "version_minor": 0
      },
      "text/plain": [
       "  0%|          | 0/58 [00:00<?, ?batch/s]"
      ]
     },
     "metadata": {},
     "output_type": "display_data"
    },
    {
     "data": {
      "application/vnd.jupyter.widget-view+json": {
       "model_id": "09cd3ebac652420e80630802b411ec7a",
       "version_major": 2,
       "version_minor": 0
      },
      "text/plain": [
       "  0%|          | 0/58 [00:00<?, ?batch/s]"
      ]
     },
     "metadata": {},
     "output_type": "display_data"
    },
    {
     "data": {
      "application/vnd.jupyter.widget-view+json": {
       "model_id": "298808c17fa7483a9428d845dd517a16",
       "version_major": 2,
       "version_minor": 0
      },
      "text/plain": [
       "  0%|          | 0/58 [00:00<?, ?batch/s]"
      ]
     },
     "metadata": {},
     "output_type": "display_data"
    },
    {
     "data": {
      "application/vnd.jupyter.widget-view+json": {
       "model_id": "432500f0d23e46f1a706e5542577f70e",
       "version_major": 2,
       "version_minor": 0
      },
      "text/plain": [
       "  0%|          | 0/58 [00:00<?, ?batch/s]"
      ]
     },
     "metadata": {},
     "output_type": "display_data"
    },
    {
     "data": {
      "application/vnd.jupyter.widget-view+json": {
       "model_id": "0f1accbebbbd46498cfa07e79ddc8c60",
       "version_major": 2,
       "version_minor": 0
      },
      "text/plain": [
       "  0%|          | 0/58 [00:00<?, ?batch/s]"
      ]
     },
     "metadata": {},
     "output_type": "display_data"
    },
    {
     "data": {
      "application/vnd.jupyter.widget-view+json": {
       "model_id": "bced1310e77a493eac428e1ef5b7d977",
       "version_major": 2,
       "version_minor": 0
      },
      "text/plain": [
       "  0%|          | 0/58 [00:00<?, ?batch/s]"
      ]
     },
     "metadata": {},
     "output_type": "display_data"
    },
    {
     "data": {
      "application/vnd.jupyter.widget-view+json": {
       "model_id": "61976049138649a7a6105060a74b240d",
       "version_major": 2,
       "version_minor": 0
      },
      "text/plain": [
       "  0%|          | 0/58 [00:00<?, ?batch/s]"
      ]
     },
     "metadata": {},
     "output_type": "display_data"
    }
   ],
   "source": [
    "# Initialise loss dictionary\n",
    "total_loss = []\n",
    "\n",
    "# Begin training\n",
    "print('Beginning training...\\n')\n",
    "ActivityClassifier.train()\n",
    "\n",
    "# Loop over epochs\n",
    "for epoch in range(N_EPOCHS):\n",
    "    # Running loss containers\n",
    "    running_loss = 0.0\n",
    "\n",
    "    # Loop over batches\n",
    "    with tqdm(train_dataloader, unit=\"batch\") as tepoch: \n",
    "        for batch_idx, (data, label, subject) in enumerate(tepoch):\n",
    "\n",
    "          # Batch tensor and add channel dimension\n",
    "          batch_tensor = data.to(device)\n",
    "          label = label.to(device)\n",
    "          batch_tensor = batch_tensor[:, None, :]\n",
    "\n",
    "          # Compute reconstructions\n",
    "          results = ActivityClassifier(batch_tensor)\n",
    "          results = results.squeeze()\n",
    "          \n",
    "          # Loss\n",
    "          loss = criterion(results, label)\n",
    "\n",
    "          # Backpropagation based on the loss\n",
    "          optimizer.zero_grad()\n",
    "          loss.backward()\n",
    "          optimizer.step()\n",
    "\n",
    "          # Update loss\n",
    "          running_loss += loss.item()\n",
    "\n",
    "          # Log\n",
    "          if batch_idx % 20 == 0:\n",
    "            tepoch.set_description(f\"Epoch {epoch+1}\")\n",
    "            tepoch.set_postfix(loss=loss.item())\n",
    "\n",
    "        # Average epoch loss\n",
    "        total_loss.append(running_loss/batch_idx+1)"
   ]
  },
  {
   "attachments": {},
   "cell_type": "markdown",
   "metadata": {},
   "source": [
    "## **3. Evaluate model**"
   ]
  },
  {
   "cell_type": "code",
   "execution_count": 1,
   "metadata": {},
   "outputs": [
    {
     "ename": "NameError",
     "evalue": "name 'ActivityClassifier' is not defined",
     "output_type": "error",
     "traceback": [
      "\u001b[0;31m---------------------------------------------------------------------------\u001b[0m",
      "\u001b[0;31mNameError\u001b[0m                                 Traceback (most recent call last)",
      "\u001b[1;32m/home/hugo/Projects/VAE_activity_detection/centralised_classifier.ipynb Cell 16\u001b[0m in \u001b[0;36m6\n\u001b[1;32m      <a href='vscode-notebook-cell://ssh-remote%2B155.198.8.214/home/hugo/Projects/VAE_activity_detection/centralised_classifier.ipynb#X23sdnNjb2RlLXJlbW90ZQ%3D%3D?line=2'>3</a>\u001b[0m y_true \u001b[39m=\u001b[39m []\n\u001b[1;32m      <a href='vscode-notebook-cell://ssh-remote%2B155.198.8.214/home/hugo/Projects/VAE_activity_detection/centralised_classifier.ipynb#X23sdnNjb2RlLXJlbW90ZQ%3D%3D?line=4'>5</a>\u001b[0m \u001b[39m# Put model in evaluation mode\u001b[39;00m\n\u001b[0;32m----> <a href='vscode-notebook-cell://ssh-remote%2B155.198.8.214/home/hugo/Projects/VAE_activity_detection/centralised_classifier.ipynb#X23sdnNjb2RlLXJlbW90ZQ%3D%3D?line=5'>6</a>\u001b[0m ActivityClassifier\u001b[39m.\u001b[39meval()\n\u001b[1;32m      <a href='vscode-notebook-cell://ssh-remote%2B155.198.8.214/home/hugo/Projects/VAE_activity_detection/centralised_classifier.ipynb#X23sdnNjb2RlLXJlbW90ZQ%3D%3D?line=6'>7</a>\u001b[0m torch\u001b[39m.\u001b[39mno_grad()\n\u001b[1;32m      <a href='vscode-notebook-cell://ssh-remote%2B155.198.8.214/home/hugo/Projects/VAE_activity_detection/centralised_classifier.ipynb#X23sdnNjb2RlLXJlbW90ZQ%3D%3D?line=8'>9</a>\u001b[0m \u001b[39m# Loop over test batches\u001b[39;00m\n",
      "\u001b[0;31mNameError\u001b[0m: name 'ActivityClassifier' is not defined"
     ]
    }
   ],
   "source": [
    "# Containers for predictions\n",
    "y_pred = []\n",
    "y_true = []\n",
    "\n",
    "# Put model in evaluation mode\n",
    "ActivityClassifier.eval()\n",
    "torch.no_grad()\n",
    "\n",
    "# Loop over test batches\n",
    "for data, labels, subject in test_dataloader:\n",
    "    # Batch tensor and add channel dimension\n",
    "    batch_tensor = data.to(device)\n",
    "    label = label.to(device)\n",
    "    batch_tensor = batch_tensor[:, None, :]\n",
    "\n",
    "    # Obtain model predictions\n",
    "    results = ActivityClassifier(batch_tensor)\n",
    "    results = results.squeeze()\n",
    "\n",
    "    # Save precitions\n",
    "    output = (torch.max(torch.exp(results), 1)[1]).data.cpu().numpy()\n",
    "    y_pred.extend(output)\n",
    "\n",
    "    # Unencode labels and save\n",
    "    labels = onehot_encoder.inverse_transform(labels.cpu().numpy())\n",
    "    labels = np.array([x[0] for x in labels])\n",
    "    y_true.extend(labels)\n",
    "\n",
    "# Calculate total accuracy\n",
    "y_pred = np.array(y_pred)\n",
    "y_true = np.array(y_true)\n",
    "accuracy = 100 * np.sum(y_pred == y_true) / len(y_true)\n",
    "print(f'Model accuracy on test set: {accuracy:.2f}')"
   ]
  },
  {
   "cell_type": "code",
   "execution_count": 122,
   "metadata": {},
   "outputs": [
    {
     "data": {
      "image/png": "[encoded data removed]",
      "text/plain": [
       "<Figure size 1200x700 with 2 Axes>"
      ]
     },
     "metadata": {},
     "output_type": "display_data"
    }
   ],
   "source": [
    "# Build confusion matrix\n",
    "cf_matrix = confusion_matrix(y_true, y_pred)\n",
    "df_cm = pd.DataFrame(cf_matrix / np.sum(cf_matrix, axis=1)[:, None], index = [i for i in mapping],\n",
    "                     columns = [i for i in mapping])\n",
    "plt.figure(figsize = (12,7))\n",
    "sn.heatmap(df_cm, annot=True)"
   ]
  },
  {
   "attachments": {},
   "cell_type": "markdown",
   "metadata": {},
   "source": []
  }
 ],
 "metadata": {
  "kernelspec": {
   "display_name": "activity_VAE",
   "language": "python",
   "name": "python3"
  },
  "language_info": {
   "codemirror_mode": {
    "name": "ipython",
    "version": 3
   },
   "file_extension": ".py",
   "mimetype": "text/x-python",
   "name": "python",
   "nbconvert_exporter": "python",
   "pygments_lexer": "ipython3",
   "version": "3.8.15"
  },
  "orig_nbformat": 4
 },
 "nbformat": 4,
 "nbformat_minor": 2
}
